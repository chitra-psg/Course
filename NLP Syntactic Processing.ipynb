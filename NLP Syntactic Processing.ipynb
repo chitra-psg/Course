{
  "nbformat": 4,
  "nbformat_minor": 0,
  "metadata": {
    "colab": {
      "provenance": [],
      "authorship_tag": "ABX9TyMgO8IC4jgLfp7a1i2q3Mam",
      "include_colab_link": true
    },
    "kernelspec": {
      "name": "python3",
      "display_name": "Python 3"
    },
    "language_info": {
      "name": "python"
    }
  },
  "cells": [
    {
      "cell_type": "markdown",
      "metadata": {
        "id": "view-in-github",
        "colab_type": "text"
      },
      "source": [
        "<a href=\"https://colab.research.google.com/github/chitra-psg/Course/blob/master/NLP%20Syntactic%20Processing.ipynb\" target=\"_parent\"><img src=\"https://colab.research.google.com/assets/colab-badge.svg\" alt=\"Open In Colab\"/></a>"
      ]
    },
    {
      "cell_type": "code",
      "execution_count": 3,
      "metadata": {
        "colab": {
          "base_uri": "https://localhost:8080/"
        },
        "id": "BFWnelaMVdXZ",
        "outputId": "1cb1433e-314d-4894-b923-2101d0b2df68"
      },
      "outputs": [
        {
          "output_type": "stream",
          "name": "stdout",
          "text": [
            "he --> PRON --> PRP\n",
            "wished --> VERB --> VBD\n",
            "she --> PRON --> PRP\n",
            "could --> AUX --> MD\n",
            "desert --> VERB --> VB\n",
            "him --> PRON --> PRP\n",
            "in --> ADP --> IN\n",
            "the --> DET --> DT\n",
            "desert --> NOUN --> NN\n",
            ". --> PUNCT --> .\n"
          ]
        }
      ],
      "source": [
        "import spacy\n",
        "\n",
        "nlp = spacy.load(\"en_core_web_sm\")\n",
        "\n",
        "doc = nlp(\"he wished she could desert him in the desert.\")\n",
        "\n",
        "for token in doc:\n",
        "    print(token.text, \"-->\", token.pos_,\"-->\", token.tag_)"
      ]
    }
  ]
}